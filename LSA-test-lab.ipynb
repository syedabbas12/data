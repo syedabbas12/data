{
 "cells": [
  {
   "cell_type": "code",
   "execution_count": 1,
   "metadata": {
    "collapsed": true
   },
   "outputs": [],
   "source": [
    "from sklearn.datasets import fetch_20newsgroups"
   ]
  },
  {
   "cell_type": "code",
   "execution_count": 2,
   "metadata": {
    "collapsed": true
   },
   "outputs": [],
   "source": [
    "categories = ['rec.sport.baseball']"
   ]
  },
  {
   "cell_type": "code",
   "execution_count": 4,
   "metadata": {
    "collapsed": false
   },
   "outputs": [],
   "source": [
    "dataset = fetch_20newsgroups(subset='all',shuffle=True, random_state=42, categories=categories)"
   ]
  },
  {
   "cell_type": "code",
   "execution_count": 5,
   "metadata": {
    "collapsed": true
   },
   "outputs": [],
   "source": [
    "corpus=dataset.data"
   ]
  },
  {
   "cell_type": "code",
   "execution_count": 6,
   "metadata": {
    "collapsed": true
   },
   "outputs": [],
   "source": [
    "from bs4 import BeautifulSoup\n",
    "import nltk\n",
    "from nltk.corpus import stopwords\n",
    "from sklearn.feature_extraction.text import TfidfVectorizer\n",
    "from sklearn.decomposition import TruncatedSVD"
   ]
  },
  {
   "cell_type": "code",
   "execution_count": 7,
   "metadata": {
    "collapsed": false
   },
   "outputs": [
    {
     "name": "stdout",
     "output_type": "stream",
     "text": [
      "[nltk_data] Downloading package stopwords to\n",
      "[nltk_data]     C:\\Users\\SyedAbbas\\AppData\\Roaming\\nltk_data...\n",
      "[nltk_data]   Unzipping corpora\\stopwords.zip.\n"
     ]
    },
    {
     "data": {
      "text/plain": [
       "True"
      ]
     },
     "execution_count": 7,
     "metadata": {},
     "output_type": "execute_result"
    }
   ],
   "source": [
    "nltk.download('stopwords')"
   ]
  },
  {
   "cell_type": "code",
   "execution_count": 8,
   "metadata": {
    "collapsed": false
   },
   "outputs": [
    {
     "ename": "TypeError",
     "evalue": "expected string or buffer",
     "output_type": "error",
     "traceback": [
      "\u001b[1;31m---------------------------------------------------------------------------\u001b[0m",
      "\u001b[1;31mTypeError\u001b[0m                                 Traceback (most recent call last)",
      "\u001b[1;32m<ipython-input-8-608c54e8753a>\u001b[0m in \u001b[0;36m<module>\u001b[1;34m()\u001b[0m\n\u001b[1;32m----> 1\u001b[1;33m \u001b[0msoup\u001b[0m \u001b[1;33m=\u001b[0m \u001b[0mBeautifulSoup\u001b[0m\u001b[1;33m(\u001b[0m\u001b[0mcorpus\u001b[0m\u001b[1;33m)\u001b[0m\u001b[1;33m\u001b[0m\u001b[0m\n\u001b[0m\u001b[0;32m      2\u001b[0m \u001b[0mpostTxt\u001b[0m \u001b[1;33m=\u001b[0m \u001b[0msoup\u001b[0m\u001b[1;33m.\u001b[0m\u001b[0mfindAll\u001b[0m\u001b[1;33m(\u001b[0m\u001b[1;34m'text'\u001b[0m\u001b[1;33m)\u001b[0m\u001b[1;33m\u001b[0m\u001b[0m\n\u001b[0;32m      3\u001b[0m \u001b[0mpostDocs\u001b[0m \u001b[1;33m=\u001b[0m \u001b[1;33m[\u001b[0m\u001b[0mx\u001b[0m\u001b[1;33m.\u001b[0m\u001b[0mtext\u001b[0m \u001b[1;32mfor\u001b[0m \u001b[0mx\u001b[0m \u001b[1;32min\u001b[0m \u001b[0mpostTxt\u001b[0m\u001b[1;33m]\u001b[0m\u001b[1;33m\u001b[0m\u001b[0m\n\u001b[0;32m      4\u001b[0m \u001b[0mpostDocs\u001b[0m\u001b[1;33m.\u001b[0m\u001b[0mpop\u001b[0m\u001b[1;33m(\u001b[0m\u001b[1;36m0\u001b[0m\u001b[1;33m)\u001b[0m\u001b[1;33m\u001b[0m\u001b[0m\n\u001b[0;32m      5\u001b[0m \u001b[0mpostDocs\u001b[0m \u001b[1;33m=\u001b[0m \u001b[1;33m[\u001b[0m\u001b[0mx\u001b[0m\u001b[1;33m.\u001b[0m\u001b[0mlower\u001b[0m\u001b[1;33m(\u001b[0m\u001b[1;33m)\u001b[0m \u001b[1;32mfor\u001b[0m \u001b[0mx\u001b[0m \u001b[1;32min\u001b[0m \u001b[0mpostDocs\u001b[0m\u001b[1;33m]\u001b[0m\u001b[1;33m\u001b[0m\u001b[0m\n",
      "\u001b[1;32mC:\\Users\\SyedAbbas\\Anaconda\\lib\\site-packages\\bs4\\__init__.py\u001b[0m in \u001b[0;36m__init__\u001b[1;34m(self, markup, features, builder, parse_only, from_encoding, **kwargs)\u001b[0m\n\u001b[0;32m    191\u001b[0m         for (self.markup, self.original_encoding, self.declared_html_encoding,\n\u001b[0;32m    192\u001b[0m          \u001b[0mself\u001b[0m\u001b[1;33m.\u001b[0m\u001b[0mcontains_replacement_characters\u001b[0m\u001b[1;33m)\u001b[0m \u001b[1;32min\u001b[0m \u001b[1;33m(\u001b[0m\u001b[1;33m\u001b[0m\u001b[0m\n\u001b[1;32m--> 193\u001b[1;33m             self.builder.prepare_markup(markup, from_encoding)):\n\u001b[0m\u001b[0;32m    194\u001b[0m             \u001b[0mself\u001b[0m\u001b[1;33m.\u001b[0m\u001b[0mreset\u001b[0m\u001b[1;33m(\u001b[0m\u001b[1;33m)\u001b[0m\u001b[1;33m\u001b[0m\u001b[0m\n\u001b[0;32m    195\u001b[0m             \u001b[1;32mtry\u001b[0m\u001b[1;33m:\u001b[0m\u001b[1;33m\u001b[0m\u001b[0m\n",
      "\u001b[1;32mC:\\Users\\SyedAbbas\\Anaconda\\lib\\site-packages\\bs4\\builder\\_lxml.py\u001b[0m in \u001b[0;36mprepare_markup\u001b[1;34m(self, markup, user_specified_encoding, document_declared_encoding)\u001b[0m\n\u001b[0;32m     97\u001b[0m         \u001b[0mtry_encodings\u001b[0m \u001b[1;33m=\u001b[0m \u001b[1;33m[\u001b[0m\u001b[0muser_specified_encoding\u001b[0m\u001b[1;33m,\u001b[0m \u001b[0mdocument_declared_encoding\u001b[0m\u001b[1;33m]\u001b[0m\u001b[1;33m\u001b[0m\u001b[0m\n\u001b[0;32m     98\u001b[0m         \u001b[0mdetector\u001b[0m \u001b[1;33m=\u001b[0m \u001b[0mEncodingDetector\u001b[0m\u001b[1;33m(\u001b[0m\u001b[0mmarkup\u001b[0m\u001b[1;33m,\u001b[0m \u001b[0mtry_encodings\u001b[0m\u001b[1;33m,\u001b[0m \u001b[0mis_html\u001b[0m\u001b[1;33m)\u001b[0m\u001b[1;33m\u001b[0m\u001b[0m\n\u001b[1;32m---> 99\u001b[1;33m         \u001b[1;32mfor\u001b[0m \u001b[0mencoding\u001b[0m \u001b[1;32min\u001b[0m \u001b[0mdetector\u001b[0m\u001b[1;33m.\u001b[0m\u001b[0mencodings\u001b[0m\u001b[1;33m:\u001b[0m\u001b[1;33m\u001b[0m\u001b[0m\n\u001b[0m\u001b[0;32m    100\u001b[0m             \u001b[1;32myield\u001b[0m \u001b[1;33m(\u001b[0m\u001b[0mdetector\u001b[0m\u001b[1;33m.\u001b[0m\u001b[0mmarkup\u001b[0m\u001b[1;33m,\u001b[0m \u001b[0mencoding\u001b[0m\u001b[1;33m,\u001b[0m \u001b[0mdocument_declared_encoding\u001b[0m\u001b[1;33m,\u001b[0m \u001b[0mFalse\u001b[0m\u001b[1;33m)\u001b[0m\u001b[1;33m\u001b[0m\u001b[0m\n\u001b[0;32m    101\u001b[0m \u001b[1;33m\u001b[0m\u001b[0m\n",
      "\u001b[1;32mC:\\Users\\SyedAbbas\\Anaconda\\lib\\site-packages\\bs4\\dammit.py\u001b[0m in \u001b[0;36mencodings\u001b[1;34m(self)\u001b[0m\n\u001b[0;32m    247\u001b[0m         \u001b[1;32mif\u001b[0m \u001b[0mself\u001b[0m\u001b[1;33m.\u001b[0m\u001b[0mdeclared_encoding\u001b[0m \u001b[1;32mis\u001b[0m \u001b[0mNone\u001b[0m\u001b[1;33m:\u001b[0m\u001b[1;33m\u001b[0m\u001b[0m\n\u001b[0;32m    248\u001b[0m             self.declared_encoding = self.find_declared_encoding(\n\u001b[1;32m--> 249\u001b[1;33m                 self.markup, self.is_html)\n\u001b[0m\u001b[0;32m    250\u001b[0m         \u001b[1;32mif\u001b[0m \u001b[0mself\u001b[0m\u001b[1;33m.\u001b[0m\u001b[0m_usable\u001b[0m\u001b[1;33m(\u001b[0m\u001b[0mself\u001b[0m\u001b[1;33m.\u001b[0m\u001b[0mdeclared_encoding\u001b[0m\u001b[1;33m,\u001b[0m \u001b[0mtried\u001b[0m\u001b[1;33m)\u001b[0m\u001b[1;33m:\u001b[0m\u001b[1;33m\u001b[0m\u001b[0m\n\u001b[0;32m    251\u001b[0m             \u001b[1;32myield\u001b[0m \u001b[0mself\u001b[0m\u001b[1;33m.\u001b[0m\u001b[0mdeclared_encoding\u001b[0m\u001b[1;33m\u001b[0m\u001b[0m\n",
      "\u001b[1;32mC:\\Users\\SyedAbbas\\Anaconda\\lib\\site-packages\\bs4\\dammit.py\u001b[0m in \u001b[0;36mfind_declared_encoding\u001b[1;34m(cls, markup, is_html, search_entire_document)\u001b[0m\n\u001b[0;32m    302\u001b[0m \u001b[1;33m\u001b[0m\u001b[0m\n\u001b[0;32m    303\u001b[0m         \u001b[0mdeclared_encoding\u001b[0m \u001b[1;33m=\u001b[0m \u001b[0mNone\u001b[0m\u001b[1;33m\u001b[0m\u001b[0m\n\u001b[1;32m--> 304\u001b[1;33m         \u001b[0mdeclared_encoding_match\u001b[0m \u001b[1;33m=\u001b[0m \u001b[0mxml_encoding_re\u001b[0m\u001b[1;33m.\u001b[0m\u001b[0msearch\u001b[0m\u001b[1;33m(\u001b[0m\u001b[0mmarkup\u001b[0m\u001b[1;33m,\u001b[0m \u001b[0mendpos\u001b[0m\u001b[1;33m=\u001b[0m\u001b[0mxml_endpos\u001b[0m\u001b[1;33m)\u001b[0m\u001b[1;33m\u001b[0m\u001b[0m\n\u001b[0m\u001b[0;32m    305\u001b[0m         \u001b[1;32mif\u001b[0m \u001b[1;32mnot\u001b[0m \u001b[0mdeclared_encoding_match\u001b[0m \u001b[1;32mand\u001b[0m \u001b[0mis_html\u001b[0m\u001b[1;33m:\u001b[0m\u001b[1;33m\u001b[0m\u001b[0m\n\u001b[0;32m    306\u001b[0m             \u001b[0mdeclared_encoding_match\u001b[0m \u001b[1;33m=\u001b[0m \u001b[0mhtml_meta_re\u001b[0m\u001b[1;33m.\u001b[0m\u001b[0msearch\u001b[0m\u001b[1;33m(\u001b[0m\u001b[0mmarkup\u001b[0m\u001b[1;33m,\u001b[0m \u001b[0mendpos\u001b[0m\u001b[1;33m=\u001b[0m\u001b[0mhtml_endpos\u001b[0m\u001b[1;33m)\u001b[0m\u001b[1;33m\u001b[0m\u001b[0m\n",
      "\u001b[1;31mTypeError\u001b[0m: expected string or buffer"
     ]
    }
   ],
   "source": [
    "soup = BeautifulSoup(corpus)\n",
    "postTxt = soup.findAll('text')  \n",
    "postDocs = [x.text for x in postTxt]\n",
    "postDocs.pop(0)\n",
    "postDocs = [x.lower() for x in postDocs]"
   ]
  },
  {
   "cell_type": "code",
   "execution_count": 9,
   "metadata": {
    "collapsed": true
   },
   "outputs": [],
   "source": [
    "stopset = set(stopwords.words('english'))\n",
    "stopset.update(['lt','p','/p','br','amp','quot','field','font','normal','span','0px','rgb','style','51', \n",
    "                'spacing','text','helvetica','size','family', 'space', 'arial', 'height', 'indent', 'letter'\n",
    "                'line','none','sans','serif','transform','line','variant','weight','times', 'new','strong', 'video', 'title'\n",
    "                'white','word','letter', 'roman','0pt','16','color','12','14','21', 'neue', 'apple', 'class',  ])"
   ]
  },
  {
   "cell_type": "code",
   "execution_count": 10,
   "metadata": {
    "collapsed": false
   },
   "outputs": [
    {
     "ename": "NameError",
     "evalue": "name 'postDocs' is not defined",
     "output_type": "error",
     "traceback": [
      "\u001b[1;31m---------------------------------------------------------------------------\u001b[0m",
      "\u001b[1;31mNameError\u001b[0m                                 Traceback (most recent call last)",
      "\u001b[1;32m<ipython-input-10-afc7514d4887>\u001b[0m in \u001b[0;36m<module>\u001b[1;34m()\u001b[0m\n\u001b[1;32m----> 1\u001b[1;33m \u001b[0mpostDocs\u001b[0m\u001b[1;33m[\u001b[0m\u001b[1;36m0\u001b[0m\u001b[1;33m]\u001b[0m\u001b[1;33m\u001b[0m\u001b[0m\n\u001b[0m",
      "\u001b[1;31mNameError\u001b[0m: name 'postDocs' is not defined"
     ]
    }
   ],
   "source": [
    "postDocs[0]"
   ]
  },
  {
   "cell_type": "code",
   "execution_count": 12,
   "metadata": {
    "collapsed": false
   },
   "outputs": [],
   "source": [
    "vectorizer = TfidfVectorizer(stop_words=stopset,use_idf=True, ngram_range=(1, 3))\n",
    "X = vectorizer.fit_transform(corpus)"
   ]
  },
  {
   "cell_type": "code",
   "execution_count": 13,
   "metadata": {
    "collapsed": false
   },
   "outputs": [
    {
     "data": {
      "text/plain": [
       "<1x190159 sparse matrix of type '<type 'numpy.float64'>'\n",
       "\twith 235 stored elements in Compressed Sparse Row format>"
      ]
     },
     "execution_count": 13,
     "metadata": {},
     "output_type": "execute_result"
    }
   ],
   "source": [
    "X[0]"
   ]
  },
  {
   "cell_type": "code",
   "execution_count": 14,
   "metadata": {
    "collapsed": false
   },
   "outputs": [
    {
     "name": "stdout",
     "output_type": "stream",
     "text": [
      "  (0, 51460)\t0.0734463096625\n",
      "  (0, 189431)\t0.0734463096625\n",
      "  (0, 28954)\t0.0734463096625\n",
      "  (0, 146556)\t0.0734463096625\n",
      "  (0, 64407)\t0.0734463096625\n",
      "  (0, 77917)\t0.0734463096625\n",
      "  (0, 133158)\t0.0734463096625\n",
      "  (0, 103424)\t0.0734463096625\n",
      "  (0, 66793)\t0.0734463096625\n",
      "  (0, 114520)\t0.0734463096625\n",
      "  (0, 163261)\t0.0734463096625\n",
      "  (0, 181100)\t0.0734463096625\n",
      "  (0, 119624)\t0.0734463096625\n",
      "  (0, 64543)\t0.0734463096625\n",
      "  (0, 103918)\t0.0734463096625\n",
      "  (0, 95532)\t0.0734463096625\n",
      "  (0, 133073)\t0.0734463096625\n",
      "  (0, 143720)\t0.0734463096625\n",
      "  (0, 98126)\t0.0734463096625\n",
      "  (0, 115161)\t0.0734463096625\n",
      "  (0, 165620)\t0.0734463096625\n",
      "  (0, 59664)\t0.0734463096625\n",
      "  (0, 51500)\t0.0734463096625\n",
      "  (0, 35721)\t0.0734463096625\n",
      "  (0, 64533)\t0.0734463096625\n",
      "  :\t:\n",
      "  (0, 143954)\t0.0551931192048\n",
      "  (0, 122291)\t0.11038623841\n",
      "  (0, 37510)\t0.0989842910659\n",
      "  (0, 40680)\t0.104524831508\n",
      "  (0, 16529)\t0.0734463096625\n",
      "  (0, 94943)\t0.11038623841\n",
      "  (0, 25779)\t0.0160794683389\n",
      "  (0, 100805)\t0.010248916482\n",
      "  (0, 163850)\t0.0606840380211\n",
      "  (0, 48144)\t0.0387972930629\n",
      "  (0, 175254)\t0.0391426583255\n",
      "  (0, 114318)\t0.0606840380211\n",
      "  (0, 175290)\t0.0179368326547\n",
      "  (0, 159024)\t0.0372269139097\n",
      "  (0, 29476)\t0.0306118463788\n",
      "  (0, 121678)\t0.0102695385529\n",
      "  (0, 68334)\t0.124508834349\n",
      "  (0, 51382)\t0.160868220155\n",
      "  (0, 137192)\t0.0126673855948\n",
      "  (0, 161824)\t0.0101872995629\n",
      "  (0, 60164)\t0.023728059338\n",
      "  (0, 38750)\t0.0505117257066\n",
      "  (0, 38760)\t0.0505117257066\n",
      "  (0, 99152)\t0.0494921455329\n",
      "  (0, 186930)\t0.0734463096625\n"
     ]
    }
   ],
   "source": [
    "print X[0]"
   ]
  },
  {
   "cell_type": "markdown",
   "metadata": {},
   "source": [
    "##LSA\n",
    "\n",
    "X≈USV^T <li>\n",
    "U will be a m x k matrix. The rows will be documents and the columns will be 'concepts'\n",
    "<li>S will be a k x k diagnal matrix. The elements will be the amount of variation captured from each concept.\n",
    "<li>V will be a m x k (mind the transpose) matrix. The rows will be terms and the columns will be conepts."
   ]
  },
  {
   "cell_type": "code",
   "execution_count": 15,
   "metadata": {
    "collapsed": false
   },
   "outputs": [
    {
     "data": {
      "text/plain": [
       "(994, 190159)"
      ]
     },
     "execution_count": 15,
     "metadata": {},
     "output_type": "execute_result"
    }
   ],
   "source": [
    "X.shape"
   ]
  },
  {
   "cell_type": "code",
   "execution_count": 16,
   "metadata": {
    "collapsed": false
   },
   "outputs": [
    {
     "data": {
      "text/plain": [
       "TruncatedSVD(algorithm='randomized', n_components=27, n_iter=100,\n",
       "       random_state=None, tol=0.0)"
      ]
     },
     "execution_count": 16,
     "metadata": {},
     "output_type": "execute_result"
    }
   ],
   "source": [
    "lsa = TruncatedSVD(n_components=27, n_iter=100)\n",
    "lsa.fit(X)"
   ]
  },
  {
   "cell_type": "code",
   "execution_count": 17,
   "metadata": {
    "collapsed": false
   },
   "outputs": [
    {
     "data": {
      "text/plain": [
       "array([ 0.01601607,  0.00499136,  0.0008138 , ...,  0.00102587,\n",
       "        0.00102587,  0.00102587])"
      ]
     },
     "execution_count": 17,
     "metadata": {},
     "output_type": "execute_result"
    }
   ],
   "source": [
    "lsa.components_[0]"
   ]
  },
  {
   "cell_type": "code",
   "execution_count": 18,
   "metadata": {
    "collapsed": false
   },
   "outputs": [
    {
     "name": "stdout",
     "output_type": "stream",
     "text": [
      "Concept 0:\n",
      "edu\n",
      "com\n",
      "year\n",
      "writes\n",
      "team\n",
      "would\n",
      "game\n",
      "article\n",
      "re\n",
      "cs\n",
      " \n",
      "Concept 1:\n",
      "subject re\n",
      "year\n",
      "posting\n",
      "cs\n",
      "com\n",
      "good\n",
      "first\n",
      "one\n",
      "win\n",
      "players\n",
      " \n",
      "Concept 2:\n",
      "edu\n",
      "baseball\n",
      "nntp posting\n",
      "host\n",
      "00 00 cleveland\n",
      "re\n",
      "good\n",
      "first\n",
      "pitching\n",
      "10\n",
      " \n",
      "Concept 3:\n",
      "players\n",
      "time\n",
      "get\n",
      "com\n",
      "would\n",
      "00 00 detroit\n",
      "three\n",
      "clutch\n",
      "like\n",
      "hitting\n",
      " \n",
      "Concept 4:\n",
      "com\n",
      "00\n",
      "nntp posting host\n",
      "posting host\n",
      "00 00 baltimore\n",
      "nntp posting\n",
      "hit\n",
      "00 00 00\n",
      "two\n",
      "see\n",
      " \n",
      "Concept 5:\n",
      "edu\n",
      "know\n",
      "ca\n",
      "subject re\n",
      "host\n",
      "re\n",
      "baseball\n",
      "organization\n",
      "even\n",
      "lines\n",
      " \n",
      "Concept 6:\n",
      "00\n",
      "00 00\n",
      "00 00 00\n",
      "00 00 000\n",
      "00 00 cleveland\n",
      "like\n",
      "00 00 gmt\n",
      "host\n",
      "first\n",
      "00 00 american\n",
      " \n",
      "Concept 7:\n",
      "good\n",
      "much\n",
      "year\n",
      "host\n",
      "roger\n",
      "really\n",
      "00 00 gmt\n",
      "writes\n",
      "two\n",
      "win\n",
      " \n",
      "Concept 8:\n",
      "host\n",
      "re\n",
      "play\n",
      "lines\n",
      "organization\n",
      "nntp posting host\n",
      "posting host\n",
      "won\n",
      "00 00 detroit\n",
      "first\n",
      " \n",
      "Concept 9:\n",
      "like\n",
      "year\n",
      "00 00 baltimore\n",
      "ca\n",
      "com\n",
      "baseball\n",
      "00 00 colorado\n",
      "game\n",
      "edu writes\n",
      "fans\n",
      " \n",
      "Concept 10:\n",
      "team\n",
      "world\n",
      "00 00 american\n",
      "runs\n",
      "cs\n",
      "writes\n",
      "know\n",
      "players\n",
      "host\n",
      "much\n",
      " \n",
      "Concept 11:\n",
      "com\n",
      "00 00 american\n",
      "posting\n",
      "host\n",
      "writes\n",
      "runs\n",
      "like\n",
      "time\n",
      "player\n",
      "ve\n",
      " \n",
      "Concept 12:\n",
      "time\n",
      "year\n",
      "think\n",
      "anyone\n",
      "ll\n",
      "00 00 gmt\n",
      "world\n",
      "way\n",
      "roger\n",
      "also\n",
      " \n",
      "Concept 13:\n",
      "good\n",
      "lines\n",
      "00 00 chicago\n",
      "subject re\n",
      "right\n",
      "com\n",
      "00\n",
      "game\n",
      "jays\n",
      "mike\n",
      " \n",
      "Concept 14:\n",
      "year\n",
      "lines\n",
      "baseball\n",
      "time\n",
      "well\n",
      "edu\n",
      "cs\n",
      "organization\n",
      "john\n",
      "00 00 detroit\n",
      " \n",
      "Concept 15:\n",
      "com\n",
      "lines\n",
      "organization\n",
      "00 00 gmt\n",
      "university\n",
      "00 00 chicago\n",
      "00 00 01\n",
      "much\n",
      "ca\n",
      "edu\n",
      " \n",
      "Concept 16:\n",
      "com\n",
      "00 00 cleveland\n",
      "nntp posting host\n",
      "posting host\n",
      "nntp posting\n",
      "lines\n",
      "see\n",
      "say\n",
      "nntp\n",
      "00 00 chicago\n",
      " \n",
      "Concept 17:\n",
      "one\n",
      "first\n",
      "lines\n",
      "subject re\n",
      "00 00 baltimore\n",
      "think\n",
      "ll\n",
      "team\n",
      "sox\n",
      "say\n",
      " \n",
      "Concept 18:\n",
      "game\n",
      "time\n",
      "posting\n",
      "subject re\n",
      "team\n",
      "cs\n",
      "last\n",
      "organization\n",
      "00 00 cleveland\n",
      "better\n",
      " \n",
      "Concept 19:\n",
      "re\n",
      "game\n",
      "00 00 american\n",
      "year\n",
      "games\n",
      "one\n",
      "posting\n",
      "organization\n",
      "subject re\n",
      "back\n",
      " \n",
      "Concept 20:\n",
      "game\n",
      "could\n",
      "even\n",
      "writes\n",
      "would\n",
      "baseball\n",
      "first\n",
      "also\n",
      "many\n",
      "ll\n",
      " \n",
      "Concept 21:\n",
      "edu\n",
      "article\n",
      "think\n",
      "subject re\n",
      "re\n",
      "year\n",
      "00 00 00\n",
      "organization\n",
      "won\n",
      "cs\n",
      " \n",
      "Concept 22:\n",
      "would\n",
      "00 00 cleveland\n",
      "00 00 chicago\n",
      "players\n",
      "hit\n",
      "last\n",
      "00 00 baltimore\n",
      "runs\n",
      "00 00 detroit\n",
      "lines\n",
      " \n",
      "Concept 23:\n",
      "00 00 detroit\n",
      "good\n",
      "think\n",
      "like\n",
      "nntp\n",
      "00 00 american\n",
      "first\n",
      "even\n",
      "university\n",
      "nntp posting host\n",
      " \n",
      "Concept 24:\n",
      "edu\n",
      "article\n",
      "one\n",
      "00 00 colorado\n",
      "re\n",
      "time\n",
      "00 00 00\n",
      "like\n",
      "could\n",
      "team\n",
      " \n",
      "Concept 25:\n",
      "would\n",
      "re\n",
      "subject\n",
      "know\n",
      "00 00 detroit\n",
      "way\n",
      "team\n",
      "win\n",
      "time\n",
      "00 00 american\n",
      " \n",
      "Concept 26:\n",
      "university\n",
      "article\n",
      "writes\n",
      "re\n",
      "lines\n",
      "game\n",
      "00 00 000\n",
      "get\n",
      "00 00 american\n",
      "posting\n",
      " \n"
     ]
    }
   ],
   "source": [
    "terms = vectorizer.get_feature_names()\n",
    "for i, comp in enumerate(lsa.components_): \n",
    "    termsInComp = zip (terms,comp)\n",
    "    sortedTerms =  sorted(termsInComp, key=lambda x: x[1], reverse=True) [:10]\n",
    "    print \"Concept %d:\" % i\n",
    "    for term in sortedTerms:\n",
    "        print term[0]\n",
    "    print \" \""
   ]
  },
  {
   "cell_type": "code",
   "execution_count": null,
   "metadata": {
    "collapsed": true
   },
   "outputs": [],
   "source": []
  }
 ],
 "metadata": {
  "kernelspec": {
   "display_name": "Python 2",
   "language": "python",
   "name": "python2"
  },
  "language_info": {
   "codemirror_mode": {
    "name": "ipython",
    "version": 2
   },
   "file_extension": ".py",
   "mimetype": "text/x-python",
   "name": "python",
   "nbconvert_exporter": "python",
   "pygments_lexer": "ipython2",
   "version": "2.7.10"
  }
 },
 "nbformat": 4,
 "nbformat_minor": 0
}
